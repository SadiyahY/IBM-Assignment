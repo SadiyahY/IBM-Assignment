{
 "cells": [
  {
   "cell_type": "markdown",
   "metadata": {},
   "source": [
    "<center>\n",
    "    <img src=\"https://cf-courses-data.s3.us.cloud-object-storage.appdomain.cloud/IBMDeveloperSkillsNetwork-DS0105EN-SkillsNetwork/labs/Module2/images/SN_web_lightmode.png\" width=\"300\" alt=\"cognitiveclass.ai logo\"  />\n",
    "</center>\n"
   ]
  },
  {
   "cell_type": "markdown",
   "metadata": {},
   "source": [
    "#### Add your code below following the instructions given in the course\n"
   ]
  },
  {
   "cell_type": "markdown",
   "metadata": {},
   "source": [
    "<h1>My Jupyter Notebook on IBM Watson Studio<h1>"
   ]
  },
  {
   "cell_type": "markdown",
   "metadata": {},
   "source": [
    "***\n",
    "\n",
    "***Sadia Abdi***\n",
    "\n",
    "\n",
    "***"
   ]
  },
  {
   "cell_type": "markdown",
   "metadata": {},
   "source": [
    "*Anyone involved in data science knows that the industry is* *fast becoming one of the most exciting careers of the 21st* *entury. In some ways, being a data scientist is like a* *modern-day Sherlock Holmes working as a detective. Anyone* *who is curious and loves everyday puzzles can thrive in* *this industry. You can play with your knowledge when* *working with data. You can also use it to run* *domain_oriented experiments.I believe data science is the* *future of data. This is the only way to efficiently and* *reproducibly achieve excellent results. More tools and* *flexibility to collect and use multiple databases at the* *same time would also be very useful. DS is the future and* *it's better to be up to date than left behind. DS is a* *rapidly evolving field, so at least most of a data* *scientist's job is to update the methods, tools, and* *workflows I envision. Reading DS may seem tempting, but* *working in this field is even more exciting. This is the* *best way to start your trip to the region.*\n",
    "\n",
    "\n",
    "\n",
    "\n",
    "\n",
    "\n",
    "\n",
    "\n",
    "\n",
    "\n",
    "\n",
    "\n",
    "\n",
    "\n",
    "\n",
    "\n",
    "\n",
    "\n",
    "\n",
    "\n",
    "\n",
    "\n",
    "\n",
    "\n",
    "\n",
    "\n"
   ]
  },
  {
   "cell_type": "markdown",
   "metadata": {},
   "source": [
    "<h3> In the code bellow we are importing pandas and nympy libaries. Pandas is most commonly used for data wrangling and data manipulation purposes, and NumPy objects are primarily used to create arrays or matrices that can be applied to DL or ML models. Whereas Pandas is used for creating heterogenous, two-dimensional data objects, NumPy makes N-dimensional homogeneous objects.<h3>"
   ]
  },
  {
   "cell_type": "code",
   "execution_count": 6,
   "metadata": {},
   "outputs": [],
   "source": [
    "import pandas as pd\n",
    "import numpy as np"
   ]
  },
  {
   "cell_type": "markdown",
   "metadata": {},
   "source": [
    "<h3>Why data scientist?<h3> "
   ]
  },
  {
   "cell_type": "markdown",
   "metadata": {},
   "source": [
    "Data Science enables\n",
    "us to apprehend large facts from more than one sources\n",
    "and derive valuable insights to make smarter facts-pushed decisions.\n",
    "Data Science is broadly utilized in numerous enterprise domains.\n",
    "\n",
    "some of these industries are;\n",
    "* Banking/finance\n",
    "* Media/advertising\n",
    "* Healthcare \n",
    "* Government\n",
    "* Manufacturing\n",
    "* Tech startups \n",
    "* Retail\n",
    "\n",
    "Usually, data scientists come from various educational and work experience backgrounds, most should be proficient in, or in an ideal case be masters in four key areas.\n",
    "\n",
    "    1.Domain Knowledge\n",
    "    2.Math Skills\n",
    "    3.Computer Science\n",
    "    4.Communication Skill\n",
    "    \n",
    "The pros and cons of Data science;\n",
    "    \n",
    "|**PROS**|**CONS**|\n",
    "|--------|--------|\n",
    "|I'ts in demand|It's a blurry term|\n",
    "|Abudndance of posistions|Mastering it is near to impossible|\n",
    "|A highly paid career|Problem of data privacy|\n",
    "| versatile|Aribatry data may yield unexpected results|\n",
    "|It can save lives||\n"
   ]
  },
  {
   "cell_type": "markdown",
   "metadata": {},
   "source": [
    "\n",
    " ***Refrences; geeksforgeeks,jigsawacadmey,data-flair-trainin***"
   ]
  },
  {
   "cell_type": "code",
   "execution_count": null,
   "metadata": {},
   "outputs": [],
   "source": []
  }
 ],
 "metadata": {
  "kernelspec": {
   "display_name": "Python 3 (ipykernel)",
   "language": "python",
   "name": "python3"
  },
  "language_info": {
   "codemirror_mode": {
    "name": "ipython",
    "version": 3
   },
   "file_extension": ".py",
   "mimetype": "text/x-python",
   "name": "python",
   "nbconvert_exporter": "python",
   "pygments_lexer": "ipython3",
   "version": "3.9.12"
  }
 },
 "nbformat": 4,
 "nbformat_minor": 4
}
